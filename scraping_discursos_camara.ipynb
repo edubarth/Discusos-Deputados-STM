{
 "cells": [
  {
   "cell_type": "code",
   "execution_count": 1,
   "metadata": {},
   "outputs": [],
   "source": [
    "from bs4 import BeautifulSoup\n",
    "import requests\n",
    "import re\n",
    "import pandas as pd\n",
    "from datetime import datetime\n",
    "import glob\n",
    "import numpy as np"
   ]
  },
  {
   "cell_type": "code",
   "execution_count": 36,
   "metadata": {},
   "outputs": [
    {
     "name": "stdout",
     "output_type": "stream",
     "text": [
      "Obtendo links: página 11\r"
     ]
    }
   ],
   "source": [
    "for page_number in range(9, 12):\n",
    "    # Para cada página, adiciona os links dos discursos em `links`\n",
    "    print(f'Obtendo links: página {page_number}', end='\\r')\n",
    "    site_data = requests.get(base_url.format(page_number=page_number))\n",
    "    soup = BeautifulSoup(site_data.content, 'html.parser')\n",
    "    link_tags = soup.find_all('a', href=re.compile('TextoHTML'))\n",
    "    for tag in link_tags:\n",
    "        links.append(re.sub(r\"\\s\", \"\", tag['href']))"
   ]
  },
  {
   "cell_type": "code",
   "execution_count": 9,
   "metadata": {},
   "outputs": [],
   "source": [
    "link_data = requests.get(base_link+links[1])\n",
    "link_soup = BeautifulSoup(link_data.content, 'html.parser')\n",
    "content = link_soup.find('div', id='content')"
   ]
  },
  {
   "cell_type": "code",
   "execution_count": 15,
   "metadata": {},
   "outputs": [
    {
     "name": "stdout",
     "output_type": "stream",
     "text": [
      "Obtendo links: página 503\n",
      "Encontrados 25116 links.\n",
      "Extraindo discursos...\n",
      "25116 discursos de 25116 extraídos.\n"
     ]
    }
   ],
   "source": [
    "def process(df, content):    \n",
    "    new_content = {'Discurso': content.find(align=\"justify\").get_text(),\n",
    "                  'Sessão': re.search(re.compile(\"Sessão: ([\\w.]+)\"),\n",
    "                      content.find('td', text=re.compile('Sessão:')).get_text().strip()).group(1),\n",
    "                  'Fase': re.search(re.compile(\"Fase: ([\\w.]+)\"),\n",
    "                      content.find('td', text=re.compile('Fase:')).get_text().strip()).group(1),\n",
    "                  'Data': re.search(re.compile(\"Data: ([\\w/]+)\"),\n",
    "                      content.find('td', text=re.compile('Data:')).get_text().strip()).group(1)}\n",
    "    \n",
    "    df = df.append(new_content, ignore_index=True)\n",
    "    return df\n",
    "\n",
    "def vazio(df):\n",
    "    null_content = {'Discurso': None,\n",
    "                  'Sessão': None,\n",
    "                  'Fase': None,\n",
    "                  'Data': None}\n",
    "    df = df.append(null_content, ignore_index=True)\n",
    "    return df\n",
    "\n",
    "def main():\n",
    "    # Armazena discursos do site da câmara em um único dataframe.\n",
    "    #base_url = 'https://www.camara.leg.br/internet/sitaqweb/resultadoPesquisaDiscursos.asp?CurrentPage={page_number}&BasePesq=plenario&txIndexacao=&txOrador=&txPartido=&dtInicio=01/01/2017&dtFim=31/12/2017&txUF=&txSessao=&listaTipoSessao=&listaTipoInterv=&inFalaPres=&listaTipoFala=&listaFaseSessao=&txAparteante=&listaEtapa=&CampoOrdenacao=dtSessao&TipoOrdenacao=DESC&PageSize=50&txTexto=&txSumario='\n",
    "    base_url = 'https://www.camara.leg.br/internet/sitaqweb/resultadoPesquisaDiscursos.asp?txIndexacao=&CurrentPage={page_number}&BasePesq=plenario&txOrador=&txPartido=&dtInicio=01/01/2007&dtFim=31/12/2007&txUF=&txSessao=&listaTipoSessao=&listaTipoInterv=&inFalaPres=&listaTipoFala=&listaFaseSessao=&txAparteante=&listaEtapa=&CampoOrdenacao=dtSessao&TipoOrdenacao=DESC&PageSize=50&txTexto=&txSumario='\n",
    "    base_link = 'https://www.camara.leg.br/internet/sitaqweb/'\n",
    "    links = list()\n",
    "    oradores_tag = []\n",
    "    oradores=[]\n",
    "    partidos = []\n",
    "    pattern = re.compile('[A-ZÀÁÂĖÈÉÊÌÍÒÓÔÕÙÚÛÇ]+(?:[ ]|-|,|(?:das?|dos?|de|e|\\(|\\)|[A-ZÀÁÂÃĖÈÉÊÌÍÒÓÔÕÙÚÛÇ]+))*')\n",
    "    pattern_p = re.compile('[A-Z]+-(?:[A-Z]+)*')\n",
    "    df = pd.DataFrame({'Orador': [], 'Partido': [],'Discurso': [], 'Sessão': [], 'Data': [], 'Fase': [], 'Link': []})\n",
    "\n",
    "    # TODO obter automaticamente o número de p\n",
    "    # áginas\n",
    "    # ou ir avançando as páginas até não encontrar mais.\n",
    "    \n",
    "    for page_number in range(1, 504):\n",
    "        # Para cada página, adiciona os links dos discursos em `links`\n",
    "        print(f'Obtendo links: página {page_number}', end='\\r')\n",
    "        site_data = requests.get(base_url.format(page_number=page_number))\n",
    "        soup = BeautifulSoup(site_data.content, 'html.parser')\n",
    "        link_tags = soup.find_all('a', href=re.compile('TextoHTML'))\n",
    "        for tag in link_tags:\n",
    "            links.append(re.sub(r\"\\s\", \"\", tag['href']))\n",
    "        tabela = soup.find('table', class_='table table-bordered variasColunas')\n",
    "        for row in tabela.findAll(\"tr\"): #para tudo que estiver em <tr>\n",
    "            cells = row.findAll('td') #variável para encontrar <td>\n",
    "            if len(cells)==8: #número de colunas\n",
    "                oradores_tag.append(cells[5].find(text=True)) #iterando sobre cada linha \n",
    "    for tag in oradores_tag:\n",
    "        oradores.append(str(pattern.findall(tag)))\n",
    "        partidos.append(str(pattern_p.findall(tag)))  \n",
    "    print()\n",
    "    \n",
    "    # Salva os links caso dê algum problema no caminho.\n",
    "    #with open('links_discursos_2013.txt', 'w') as f:\n",
    "     #   f.write('\\n'.join(links))\n",
    "        \n",
    "    n_links = len(links)\n",
    "    links_erro = list()\n",
    "    links_discursos = list()\n",
    "    print(f'Encontrados {n_links} links.')\n",
    "    print('Extraindo discursos...')\n",
    "    for n, link in enumerate(links):\n",
    "        link_data = requests.get(base_link+link)\n",
    "        content = BeautifulSoup(link_data.content, 'html.parser')\n",
    "        #content = link_soup.find('div', id='content')\n",
    "        if content:\n",
    "            try:\n",
    "                df = process(df, content)\n",
    "                links_discursos.append(base_link+link)\n",
    "            except:\n",
    "            # Salva os links com erro.\n",
    "                df = vazio(df)\n",
    "                links_erro.append(base_link+link)\n",
    "                links_discursos.append(base_link+link)\n",
    "                print(f'{n+1} discursos com erro.', end='\\r')\n",
    "        else:\n",
    "            df = vazio(df)\n",
    "            links_discursos.append(base_link+link)\n",
    "        print(f'{n+1} discursos de {n_links} extraídos.', end='\\r')\n",
    "    \n",
    "    with open('links_erro_2007.txt', 'w') as f:\n",
    "        f.write('\\n'.join(links_erro))\n",
    "    print()\n",
    "    df['Orador'] = oradores\n",
    "    df['Partido'] = partidos\n",
    "    df['Link'] = links_discursos\n",
    "\n",
    "    return df\n",
    "\n",
    "if __name__ == '__main__':\n",
    "    df = main()\n",
    "    df.to_csv('discursos\\camara_2007_novo.csv', index=False, sep=\"|\")"
   ]
  },
  {
   "cell_type": "code",
   "execution_count": 3,
   "metadata": {},
   "outputs": [],
   "source": [
    "csv_files = glob.glob('discursos\\camara_*_novo.csv')\n",
    "\n",
    "# This creates a list of dataframes\n",
    "df_list = (pd.read_csv(file, sep=\"|\") for file in csv_files)\n",
    "\n",
    "# Concatenate all DataFrames\n",
    "discursos   = pd.concat(df_list, ignore_index=True)\n"
   ]
  },
  {
   "cell_type": "code",
   "execution_count": 2,
   "metadata": {},
   "outputs": [],
   "source": [
    "discursos = pd.read_csv('discursos\\discursos_completo.csv', sep=\"|\")"
   ]
  },
  {
   "cell_type": "code",
   "execution_count": 12,
   "metadata": {},
   "outputs": [
    {
     "name": "stdout",
     "output_type": "stream",
     "text": [
      "<class 'pandas.core.frame.DataFrame'>\n",
      "RangeIndex: 336251 entries, 0 to 336250\n",
      "Data columns (total 7 columns):\n",
      " #   Column    Non-Null Count   Dtype \n",
      "---  ------    --------------   ----- \n",
      " 0   Orador    336251 non-null  object\n",
      " 1   Partido   336251 non-null  object\n",
      " 2   Discurso  334091 non-null  object\n",
      " 3   Sessão    334107 non-null  object\n",
      " 4   Data      334107 non-null  object\n",
      " 5   Fase      334107 non-null  object\n",
      " 6   Link      272432 non-null  object\n",
      "dtypes: object(7)\n",
      "memory usage: 18.0+ MB\n"
     ]
    }
   ],
   "source": [
    "def process(df, content):    \n",
    "    new_content = {'Discurso': content.find(align=\"justify\").get_text(),\n",
    "                  'Sessão': re.search(re.compile(\"Sessão: ([\\w.]+)\"),\n",
    "                      content.find('td', text=re.compile('Sessão:')).get_text().strip()).group(1),\n",
    "                  'Fase': re.search(re.compile(\"Fase: ([\\w.]+)\"),\n",
    "                      content.find('td', text=re.compile('Fase:')).get_text().strip()).group(1),\n",
    "                  'Data': re.search(re.compile(\"Data: ([\\w/]+)\"),\n",
    "                      content.find('td', text=re.compile('Data:')).get_text().strip()).group(1)}\n",
    "    \n",
    "    df = df.append(new_content, ignore_index=True)\n",
    "    return df\n",
    "\n",
    "def vazio(df):\n",
    "    null_content = {'Discurso': None,\n",
    "                  'Sessão': None,\n",
    "                  'Fase': None,\n",
    "                  'Data': None}\n",
    "    df = df.append(null_content, ignore_index=True)\n",
    "    return df\n",
    "\n",
    "nulos = discursos[discursos['Data'].isna()]\n",
    "pegar_discursos = nulos[nulos['Link'].notnull()]\n",
    "links = pegar_discursos['Link'].values.tolist()\n",
    "df = pd.DataFrame({'Orador': [], 'Partido': [],'Discurso': [], 'Sessão': [], 'Data': [], 'Fase': [], 'Link': []})\n",
    "\n",
    "n_links = len(links)\n",
    "links_erro = list()\n",
    "links_discursos = list()\n",
    "print(f'Encontrados {n_links} links.')\n",
    "print('Extraindo discursos...')\n",
    "for n, link in enumerate(links):\n",
    "    link_data = requests.get(link)\n",
    "    content = BeautifulSoup(link_data.content, 'html.parser')\n",
    "    #content = link_soup.find('div', id='content')\n",
    "    if content:\n",
    "        try:\n",
    "            df = process(df, content)\n",
    "            links_discursos.append(link)\n",
    "        except:\n",
    "        # Salva os links com erro.\n",
    "            df = vazio(df)\n",
    "            links_erro.append(link)\n",
    "            links_discursos.append(link)\n",
    "            print(f'{n+1} discursos com erro.', end='\\r')\n",
    "    else:\n",
    "        df = vazio(df)\n",
    "        links_discursos.append(link)\n",
    "    print(f'{n+1} discursos de {n_links} extraídos.', end='\\r')\n",
    "\n",
    "with open('links_erro_pegar_discursos.txt', 'w') as f:\n",
    "    f.write('\\n'.join(links_erro))\n",
    "print()\n",
    "df['Link'] = links_discursos"
   ]
  },
  {
   "cell_type": "code",
   "execution_count": 26,
   "metadata": {},
   "outputs": [],
   "source": [
    "link_data = requests.get(\"https://www.camara.leg.br/internet/sitaqweb/TextoHTML.asp?etapa=5&nuSessao=94.2019&nuQuarto=115863&nuOrador=1&nuInsercao=1&dtHorarioQuarto=20:12&sgFaseSessao=EN&Data=08/05/2019&txApelido=RONALDOCARLETTO,PP-BA&txFaseSessao=Encerramento&txTipoSessao=DeliberativaOrdinária-CD&dtHoraQuarto=20:12&txEtapa=\")\n",
    "content = BeautifulSoup(link_data.content, 'html.parser')\n",
    "content.find(align=\"justify\").get_text()\n",
    "re.search(re.compile(\"Sessão: ([\\w.]+)\"),content.find('td', text=re.compile('Sessão:')).get_text().strip()).group(1)\n",
    "re.search(re.compile(\"Fase: ([\\w.]+)\"),content.find('td', text=re.compile('Fase:')).get_text().strip()).group(1)\n",
    "re.search(re.compile(\"Data: ([\\w/]+)\"),content.find('td', text=re.compile('Data:')).get_text().strip()).group(1)\n",
    "\n",
    "if content:\n",
    "    df = process(df, content)\n",
    "    links_discursos.append(base_link+link)"
   ]
  },
  {
   "cell_type": "code",
   "execution_count": 35,
   "metadata": {},
   "outputs": [],
   "source": [
    "pegar = pd.merge(pegar_discursos,df, on = \"Link\", how=\"inner\")"
   ]
  },
  {
   "cell_type": "code",
   "execution_count": 51,
   "metadata": {},
   "outputs": [],
   "source": [
    "pegar_2 = pegar_discursos.join(df.set_index(\"Link\"), on = \"Link\", how=\"inner\",lsuffix=\"_x\",rsuffix=\"_y\")\n",
    "pegar_2 = pegar_2[['Discurso_y', 'Sessão_y', 'Data_y', 'Fase_y','Link']]\n",
    "pegar_2 = pegar_2.rename(columns={'Discurso_y':'Discurso','Sessão_y':'Sessão', 'Data_y':'Data', 'Fase_y':'Fase'})\n",
    "\n",
    "discursos_2 = discursos.join(pegar_2.set_index(\"Link\"), on = \"Link\", how=\"left\",lsuffix=\"_x\",rsuffix=\"_y\")"
   ]
  },
  {
   "cell_type": "code",
   "execution_count": 47,
   "metadata": {},
   "outputs": [
    {
     "name": "stdout",
     "output_type": "stream",
     "text": [
      "<class 'pandas.core.frame.DataFrame'>\n",
      "Int64Index: 1707 entries, 90382 to 336250\n",
      "Data columns (total 5 columns):\n",
      " #   Column    Non-Null Count  Dtype \n",
      "---  ------    --------------  ----- \n",
      " 0   Discurso  1177 non-null   object\n",
      " 1   Sessão    1177 non-null   object\n",
      " 2   Data      1177 non-null   object\n",
      " 3   Fase      1177 non-null   object\n",
      " 4   Link      1707 non-null   object\n",
      "dtypes: object(5)\n",
      "memory usage: 80.0+ KB\n"
     ]
    }
   ],
   "source": [
    "pegar_2.info()"
   ]
  },
  {
   "cell_type": "code",
   "execution_count": 48,
   "metadata": {},
   "outputs": [
    {
     "name": "stdout",
     "output_type": "stream",
     "text": [
      "<class 'pandas.core.frame.DataFrame'>\n",
      "RangeIndex: 336251 entries, 0 to 336250\n",
      "Data columns (total 7 columns):\n",
      " #   Column    Non-Null Count   Dtype \n",
      "---  ------    --------------   ----- \n",
      " 0   Orador    336251 non-null  object\n",
      " 1   Partido   336251 non-null  object\n",
      " 2   Discurso  334091 non-null  object\n",
      " 3   Sessão    334107 non-null  object\n",
      " 4   Data      334107 non-null  object\n",
      " 5   Fase      334107 non-null  object\n",
      " 6   Link      272432 non-null  object\n",
      "dtypes: object(7)\n",
      "memory usage: 18.0+ MB\n"
     ]
    }
   ],
   "source": [
    "discursos.info()"
   ]
  },
  {
   "cell_type": "code",
   "execution_count": 33,
   "metadata": {},
   "outputs": [],
   "source": [
    "df.to_csv('df.csv',sep=\"}\")\n",
    "pegar_discursos.to_csv(\"pegar_discursos.csv\",sep=\"}\")"
   ]
  },
  {
   "cell_type": "code",
   "execution_count": 14,
   "metadata": {},
   "outputs": [],
   "source": [
    "df = pd.read_csv('df.csv', sep=\"}\")\n",
    "pegar_discursos = pd.read_csv('pegar_discursos.csv', sep=\"}\")"
   ]
  },
  {
   "cell_type": "code",
   "execution_count": 15,
   "metadata": {},
   "outputs": [],
   "source": [
    "df = df[['Discurso', 'Sessão', 'Data', 'Fase','Link']]\n",
    "df['Link'] = df['Link'].str[44:]\n",
    "discursos_2 = discursos.join(df.set_index(\"Link\"), on = \"Link\", how=\"left\",lsuffix=\"_x\",rsuffix=\"_y\")"
   ]
  },
  {
   "cell_type": "code",
   "execution_count": 22,
   "metadata": {},
   "outputs": [
    {
     "data": {
      "text/html": [
       "<div>\n",
       "<style scoped>\n",
       "    .dataframe tbody tr th:only-of-type {\n",
       "        vertical-align: middle;\n",
       "    }\n",
       "\n",
       "    .dataframe tbody tr th {\n",
       "        vertical-align: top;\n",
       "    }\n",
       "\n",
       "    .dataframe thead th {\n",
       "        text-align: right;\n",
       "    }\n",
       "</style>\n",
       "<table border=\"1\" class=\"dataframe\">\n",
       "  <thead>\n",
       "    <tr style=\"text-align: right;\">\n",
       "      <th></th>\n",
       "      <th>Orador</th>\n",
       "      <th>Partido</th>\n",
       "      <th>Discurso_x</th>\n",
       "      <th>Sessão_x</th>\n",
       "      <th>Data_x</th>\n",
       "      <th>Fase_x</th>\n",
       "      <th>Link</th>\n",
       "      <th>Discurso_y</th>\n",
       "      <th>Sessão_y</th>\n",
       "      <th>Data_y</th>\n",
       "      <th>Fase_y</th>\n",
       "    </tr>\n",
       "  </thead>\n",
       "  <tbody>\n",
       "    <tr>\n",
       "      <th>90484</th>\n",
       "      <td>['DUARTE NOGUEIRA, PSDB-SP']</td>\n",
       "      <td>['PSDB-SP']</td>\n",
       "      <td>O SR. DUARTE NOGUEIRA (PSDB-SP. Pela ordem. Se...</td>\n",
       "      <td>273.1.54.O</td>\n",
       "      <td>05/10/2011</td>\n",
       "      <td>OD</td>\n",
       "      <td>https://www.camara.leg.br/internet/sitaqweb/Te...</td>\n",
       "      <td>O SR. DUARTE NOGUEIRA (PSDB-SP. Pela ordem. Se...</td>\n",
       "      <td>273.1.54.O</td>\n",
       "      <td>05/10/2011</td>\n",
       "      <td>OD</td>\n",
       "    </tr>\n",
       "    <tr>\n",
       "      <th>90498</th>\n",
       "      <td>['ANTONIO CARLOS MAGALHÃES NETO, DEM-BA']</td>\n",
       "      <td>['DEM-BA']</td>\n",
       "      <td>O SR. ANTONIO CARLOS MAGALHÃES NE...</td>\n",
       "      <td>273.1.54.O</td>\n",
       "      <td>05/10/2011</td>\n",
       "      <td>OD</td>\n",
       "      <td>https://www.camara.leg.br/internet/sitaqweb/Te...</td>\n",
       "      <td>O SR. ANTONIO CARLOS MAGALHÃES NE...</td>\n",
       "      <td>273.1.54.O</td>\n",
       "      <td>05/10/2011</td>\n",
       "      <td>OD</td>\n",
       "    </tr>\n",
       "    <tr>\n",
       "      <th>90515</th>\n",
       "      <td>['PAUDERNEY AVELINO, DEM-AM']</td>\n",
       "      <td>['DEM-AM']</td>\n",
       "      <td>O SR. PAUDERNEY AVELINO (DEM-AM. Pronuncia o s...</td>\n",
       "      <td>273.1.54.O</td>\n",
       "      <td>05/10/2011</td>\n",
       "      <td>PE</td>\n",
       "      <td>https://www.camara.leg.br/internet/sitaqweb/Te...</td>\n",
       "      <td>O SR. PAUDERNEY AVELINO (DEM-AM. Pronuncia o s...</td>\n",
       "      <td>273.1.54.O</td>\n",
       "      <td>05/10/2011</td>\n",
       "      <td>PE</td>\n",
       "    </tr>\n",
       "    <tr>\n",
       "      <th>90798</th>\n",
       "      <td>['MANUELA D', 'ÁVILA, PCDOB-RS']</td>\n",
       "      <td>['PCDOB-RS']</td>\n",
       "      <td>A SRA. MANUELA D'ÁVILA (Bloco/PCdoB-RS. Pronun...</td>\n",
       "      <td>269.1.54.O</td>\n",
       "      <td>04/10/2011</td>\n",
       "      <td>PE</td>\n",
       "      <td>https://www.camara.leg.br/internet/sitaqweb/Te...</td>\n",
       "      <td>A SRA. MANUELA D'ÁVILA (Bloco/PCdoB-RS. Pronun...</td>\n",
       "      <td>269.1.54.O</td>\n",
       "      <td>04/10/2011</td>\n",
       "      <td>PE</td>\n",
       "    </tr>\n",
       "    <tr>\n",
       "      <th>90895</th>\n",
       "      <td>['EMILIANO JOSÉ, PT-BA']</td>\n",
       "      <td>['PT-BA']</td>\n",
       "      <td>O SR. EMILIANO JOSÉ (PT-BA. Sem revisão do or...</td>\n",
       "      <td>267.1.54.O</td>\n",
       "      <td>03/10/2011</td>\n",
       "      <td>CP</td>\n",
       "      <td>https://www.camara.leg.br/internet/sitaqweb/Te...</td>\n",
       "      <td>O SR. EMILIANO JOSÉ (PT-BA. Sem revisão do or...</td>\n",
       "      <td>267.1.54.O</td>\n",
       "      <td>03/10/2011</td>\n",
       "      <td>CP</td>\n",
       "    </tr>\n",
       "  </tbody>\n",
       "</table>\n",
       "</div>"
      ],
      "text/plain": [
       "                                          Orador       Partido  \\\n",
       "90484               ['DUARTE NOGUEIRA, PSDB-SP']   ['PSDB-SP']   \n",
       "90498  ['ANTONIO CARLOS MAGALHÃES NETO, DEM-BA']    ['DEM-BA']   \n",
       "90515              ['PAUDERNEY AVELINO, DEM-AM']    ['DEM-AM']   \n",
       "90798           ['MANUELA D', 'ÁVILA, PCDOB-RS']  ['PCDOB-RS']   \n",
       "90895                   ['EMILIANO JOSÉ, PT-BA']     ['PT-BA']   \n",
       "\n",
       "                                              Discurso_x    Sessão_x  \\\n",
       "90484  O SR. DUARTE NOGUEIRA (PSDB-SP. Pela ordem. Se...  273.1.54.O   \n",
       "90498               O SR. ANTONIO CARLOS MAGALHÃES NE...  273.1.54.O   \n",
       "90515  O SR. PAUDERNEY AVELINO (DEM-AM. Pronuncia o s...  273.1.54.O   \n",
       "90798  A SRA. MANUELA D'ÁVILA (Bloco/PCdoB-RS. Pronun...  269.1.54.O   \n",
       "90895   O SR. EMILIANO JOSÉ (PT-BA. Sem revisão do or...  267.1.54.O   \n",
       "\n",
       "           Data_x Fase_x                                               Link  \\\n",
       "90484  05/10/2011     OD  https://www.camara.leg.br/internet/sitaqweb/Te...   \n",
       "90498  05/10/2011     OD  https://www.camara.leg.br/internet/sitaqweb/Te...   \n",
       "90515  05/10/2011     PE  https://www.camara.leg.br/internet/sitaqweb/Te...   \n",
       "90798  04/10/2011     PE  https://www.camara.leg.br/internet/sitaqweb/Te...   \n",
       "90895  03/10/2011     CP  https://www.camara.leg.br/internet/sitaqweb/Te...   \n",
       "\n",
       "                                              Discurso_y    Sessão_y  \\\n",
       "90484  O SR. DUARTE NOGUEIRA (PSDB-SP. Pela ordem. Se...  273.1.54.O   \n",
       "90498               O SR. ANTONIO CARLOS MAGALHÃES NE...  273.1.54.O   \n",
       "90515  O SR. PAUDERNEY AVELINO (DEM-AM. Pronuncia o s...  273.1.54.O   \n",
       "90798  A SRA. MANUELA D'ÁVILA (Bloco/PCdoB-RS. Pronun...  269.1.54.O   \n",
       "90895   O SR. EMILIANO JOSÉ (PT-BA. Sem revisão do or...  267.1.54.O   \n",
       "\n",
       "           Data_y Fase_y  \n",
       "90484  05/10/2011     OD  \n",
       "90498  05/10/2011     OD  \n",
       "90515  05/10/2011     PE  \n",
       "90798  04/10/2011     PE  \n",
       "90895  03/10/2011     CP  "
      ]
     },
     "execution_count": 22,
     "metadata": {},
     "output_type": "execute_result"
    }
   ],
   "source": [
    "discursos_2[discursos_2['Discurso_y'].notnull()].head()"
   ]
  },
  {
   "cell_type": "code",
   "execution_count": 21,
   "metadata": {},
   "outputs": [],
   "source": [
    "discursos_2['Discurso_x'] = np.where(discursos_2['Discurso_y'].notnull(),discursos_2['Discurso_y'],discursos_2['Discurso_x'])\n",
    "discursos_2['Data_x'] = np.where(discursos_2['Data_y'].notnull(),discursos_2['Data_y'],discursos_2['Data_x'])\n",
    "discursos_2['Sessão_x'] = np.where(discursos_2['Sessão_y'].notnull(),discursos_2['Sessão_y'],discursos_2['Sessão_x'])\n",
    "discursos_2['Fase_x'] = np.where(discursos_2['Fase_y'].notnull(),discursos_2['Fase_y'],discursos_2['Fase_x'])"
   ]
  },
  {
   "cell_type": "code",
   "execution_count": 23,
   "metadata": {},
   "outputs": [
    {
     "data": {
      "text/plain": [
       "Index(['Orador', 'Partido', 'Discurso_x', 'Sessão_x', 'Data_x', 'Fase_x',\n",
       "       'Link', 'Discurso_y', 'Sessão_y', 'Data_y', 'Fase_y'],\n",
       "      dtype='object')"
      ]
     },
     "execution_count": 23,
     "metadata": {},
     "output_type": "execute_result"
    }
   ],
   "source": [
    "discursos_2.columns"
   ]
  },
  {
   "cell_type": "code",
   "execution_count": 24,
   "metadata": {},
   "outputs": [
    {
     "data": {
      "text/html": [
       "<div>\n",
       "<style scoped>\n",
       "    .dataframe tbody tr th:only-of-type {\n",
       "        vertical-align: middle;\n",
       "    }\n",
       "\n",
       "    .dataframe tbody tr th {\n",
       "        vertical-align: top;\n",
       "    }\n",
       "\n",
       "    .dataframe thead th {\n",
       "        text-align: right;\n",
       "    }\n",
       "</style>\n",
       "<table border=\"1\" class=\"dataframe\">\n",
       "  <thead>\n",
       "    <tr style=\"text-align: right;\">\n",
       "      <th></th>\n",
       "      <th>Orador</th>\n",
       "      <th>Partido</th>\n",
       "      <th>Discurso</th>\n",
       "      <th>Sessão</th>\n",
       "      <th>Data_x</th>\n",
       "      <th>Fase</th>\n",
       "      <th>Link</th>\n",
       "    </tr>\n",
       "  </thead>\n",
       "  <tbody>\n",
       "    <tr>\n",
       "      <th>0</th>\n",
       "      <td>['MAURO BENEVIDES, PMDB-CE']</td>\n",
       "      <td>['PMDB-CE']</td>\n",
       "      <td>O SR. MAURO BENEVIDES (Bloco/PMDB-CE. Pronunci...</td>\n",
       "      <td>359.1.53.O</td>\n",
       "      <td>21/12/2007</td>\n",
       "      <td>CP</td>\n",
       "      <td>https://www.camara.leg.br/internet/sitaqweb/Te...</td>\n",
       "    </tr>\n",
       "    <tr>\n",
       "      <th>1</th>\n",
       "      <td>['MAURO BENEVIDES (PRESIDENTE), PMDB-CE']</td>\n",
       "      <td>['PMDB-CE']</td>\n",
       "      <td>O SR. PRESIDENTE (Mauro Benevides) -...</td>\n",
       "      <td>359.1.53.O</td>\n",
       "      <td>21/12/2007</td>\n",
       "      <td>GE</td>\n",
       "      <td>https://www.camara.leg.br/internet/sitaqweb/Te...</td>\n",
       "    </tr>\n",
       "    <tr>\n",
       "      <th>2</th>\n",
       "      <td>['EDUARDO GOMES, PSDB-TO']</td>\n",
       "      <td>['PSDB-TO']</td>\n",
       "      <td>O SR. EDUARDO GOMES (PSDB-TO. Como Líder. Sem...</td>\n",
       "      <td>359.1.53.O</td>\n",
       "      <td>21/12/2007</td>\n",
       "      <td>GE</td>\n",
       "      <td>https://www.camara.leg.br/internet/sitaqweb/Te...</td>\n",
       "    </tr>\n",
       "    <tr>\n",
       "      <th>3</th>\n",
       "      <td>['MAURO BENEVIDES (PRESIDENTE), PMDB-CE']</td>\n",
       "      <td>['PMDB-CE']</td>\n",
       "      <td>O SR. PRESIDENTE (Mauro Benevides) ...</td>\n",
       "      <td>359.1.53.O</td>\n",
       "      <td>21/12/2007</td>\n",
       "      <td>GE</td>\n",
       "      <td>https://www.camara.leg.br/internet/sitaqweb/Te...</td>\n",
       "    </tr>\n",
       "    <tr>\n",
       "      <th>4</th>\n",
       "      <td>['DARCÍSIO PERONDI, PMDB-RS']</td>\n",
       "      <td>['PMDB-RS']</td>\n",
       "      <td>O SR. DARCÍSIO PERONDI (Bloco/PMDB-RS. Como Lí...</td>\n",
       "      <td>359.1.53.O</td>\n",
       "      <td>21/12/2007</td>\n",
       "      <td>GE</td>\n",
       "      <td>https://www.camara.leg.br/internet/sitaqweb/Te...</td>\n",
       "    </tr>\n",
       "  </tbody>\n",
       "</table>\n",
       "</div>"
      ],
      "text/plain": [
       "                                      Orador      Partido  \\\n",
       "0               ['MAURO BENEVIDES, PMDB-CE']  ['PMDB-CE']   \n",
       "1  ['MAURO BENEVIDES (PRESIDENTE), PMDB-CE']  ['PMDB-CE']   \n",
       "2                 ['EDUARDO GOMES, PSDB-TO']  ['PSDB-TO']   \n",
       "3  ['MAURO BENEVIDES (PRESIDENTE), PMDB-CE']  ['PMDB-CE']   \n",
       "4              ['DARCÍSIO PERONDI, PMDB-RS']  ['PMDB-RS']   \n",
       "\n",
       "                                            Discurso      Sessão      Data_x  \\\n",
       "0  O SR. MAURO BENEVIDES (Bloco/PMDB-CE. Pronunci...  359.1.53.O  21/12/2007   \n",
       "1            O SR. PRESIDENTE (Mauro Benevides) -...  359.1.53.O  21/12/2007   \n",
       "2   O SR. EDUARDO GOMES (PSDB-TO. Como Líder. Sem...  359.1.53.O  21/12/2007   \n",
       "3             O SR. PRESIDENTE (Mauro Benevides) ...  359.1.53.O  21/12/2007   \n",
       "4  O SR. DARCÍSIO PERONDI (Bloco/PMDB-RS. Como Lí...  359.1.53.O  21/12/2007   \n",
       "\n",
       "  Fase                                               Link  \n",
       "0   CP  https://www.camara.leg.br/internet/sitaqweb/Te...  \n",
       "1   GE  https://www.camara.leg.br/internet/sitaqweb/Te...  \n",
       "2   GE  https://www.camara.leg.br/internet/sitaqweb/Te...  \n",
       "3   GE  https://www.camara.leg.br/internet/sitaqweb/Te...  \n",
       "4   GE  https://www.camara.leg.br/internet/sitaqweb/Te...  "
      ]
     },
     "execution_count": 24,
     "metadata": {},
     "output_type": "execute_result"
    }
   ],
   "source": [
    "discursos_2 = discursos_2[['Orador', 'Partido', 'Discurso_x', 'Sessão_x', 'Data_x', 'Fase_x','Link']]\n",
    "discursos_2 = discursos_2.rename(columns={'Discurso_x':'Discurso', 'Sessão_x':'Sessão', 'Data_x':'Data', 'Fase_x':'Fase'})\n",
    "discursos_2.head()"
   ]
  },
  {
   "cell_type": "code",
   "execution_count": 26,
   "metadata": {},
   "outputs": [],
   "source": [
    "discursos_2.to_csv('discursos\\discursos_completo.csv', index=False, sep=\"|\")"
   ]
  },
  {
   "cell_type": "code",
   "execution_count": null,
   "metadata": {},
   "outputs": [],
   "source": []
  }
 ],
 "metadata": {
  "kernelspec": {
   "display_name": "Python 3.9.13 64-bit (windows store)",
   "language": "python",
   "name": "python3"
  },
  "language_info": {
   "codemirror_mode": {
    "name": "ipython",
    "version": 3
   },
   "file_extension": ".py",
   "mimetype": "text/x-python",
   "name": "python",
   "nbconvert_exporter": "python",
   "pygments_lexer": "ipython3",
   "version": "3.9.13"
  },
  "orig_nbformat": 4,
  "vscode": {
   "interpreter": {
    "hash": "82a3c348cc9fa6d74b560d52ce8ad16ae8cf45d1154fe3b3237f15db42a9d9a5"
   }
  }
 },
 "nbformat": 4,
 "nbformat_minor": 2
}
